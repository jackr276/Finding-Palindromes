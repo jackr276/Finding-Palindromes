{
 "cells": [
  {
   "cell_type": "markdown",
   "metadata": {},
   "source": [
    "# Find all palindromes in the english language"
   ]
  },
  {
   "cell_type": "code",
   "execution_count": 3,
   "metadata": {},
   "outputs": [],
   "source": [
    "def find_all_palindromes(text_file):\n",
    "    palindromes = []\n",
    "    with open(text_file) as file:\n",
    "        lines = file.readlines()\n",
    "        for line in lines:\n",
    "            line.strip()\n",
    "            if is_palindrome(line):\n",
    "                palindromes.append(line)\n",
    "    return palindromes\n",
    "\n",
    "\n",
    "def is_palindrome(word):\n",
    "    word_arr = [*word.strip()]\n",
    "    # one letter words will not count\n",
    "    if len(word_arr) == 1:\n",
    "        return False\n",
    "    # Reverse the array to compare\n",
    "    reversed_arr = word_arr.copy()\n",
    "    reversed_arr.reverse()\n",
    "\n",
    "    # Iterate through both arrays at once (they are the same length)\n",
    "    for i in range(0, len(reversed_arr)):\n",
    "        if word_arr[i] != reversed_arr[i]:\n",
    "            return False\n",
    "\n",
    "    return True\n",
    "\n",
    "\n",
    "def main(file_name):\n",
    "    print(f\"Finding all palindromes in file {file_name}\")\n",
    "    palindromes = find_all_palindromes(file_name)\n",
    "    print(f\"Found {len(palindromes)} palindromes!\")\n",
    "    print(f\"Here are all of them: \")\n",
    "    for palindrome in palindromes:\n",
    "        print(palindrome + \"\\n\")\n",
    "\n",
    "\n",
    "if __name__ == '__main__':\n",
    "    main(\"dictionary.txt\")\n",
    "\n"
   ]
  },
  {
   "cell_type": "code",
   "execution_count": null,
   "metadata": {},
   "outputs": [],
   "source": []
  }
 ],
 "metadata": {
  "kernelspec": {
   "display_name": "Python 3.9.12 ('base')",
   "language": "python",
   "name": "python3"
  },
  "language_info": {
   "codemirror_mode": {
    "name": "ipython",
    "version": 3
   },
   "file_extension": ".py",
   "mimetype": "text/x-python",
   "name": "python",
   "nbconvert_exporter": "python",
   "pygments_lexer": "ipython3",
   "version": "3.9.12"
  },
  "orig_nbformat": 4,
  "vscode": {
   "interpreter": {
    "hash": "313623be14b5315ad9b731e2722de17b6695b56bea3a8826119fb40ff2afb887"
   }
  }
 },
 "nbformat": 4,
 "nbformat_minor": 2
}
